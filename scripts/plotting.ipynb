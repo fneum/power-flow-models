{
 "cells": [
  {
   "cell_type": "markdown",
   "metadata": {},
   "source": [
    "## Imports"
   ]
  },
  {
   "cell_type": "code",
   "execution_count": null,
   "metadata": {},
   "outputs": [],
   "source": [
    "%load_ext autoreload\n",
    "%autoreload 2"
   ]
  },
  {
   "cell_type": "code",
   "execution_count": null,
   "metadata": {},
   "outputs": [],
   "source": [
    "import pypsa\n",
    "import pandas as pd\n",
    "import sys, os\n",
    "import numpy as np\n",
    "import matplotlib.pyplot as plt"
   ]
  },
  {
   "cell_type": "code",
   "execution_count": null,
   "metadata": {},
   "outputs": [],
   "source": [
    "import plotting.collection as clt\n",
    "from plotting.utils import load_memory, assign_carriers"
   ]
  },
  {
   "cell_type": "code",
   "execution_count": null,
   "metadata": {},
   "outputs": [],
   "source": [
    "%matplotlib inline"
   ]
  },
  {
   "cell_type": "markdown",
   "metadata": {},
   "source": [
    "## Preliminaries"
   ]
  },
  {
   "cell_type": "code",
   "execution_count": null,
   "metadata": {},
   "outputs": [],
   "source": [
    "plt.style.use(\"bmh\")"
   ]
  },
  {
   "cell_type": "code",
   "execution_count": null,
   "metadata": {},
   "outputs": [],
   "source": [
    "model_names = {\n",
    "    \"transport\": \"Transport\",\n",
    "    \"lossytransport\": \"Lossy\\nTransport\",\n",
    "    \"lossless-0\": \"Lossless\",\n",
    "    \"lossy-3-0\": \"Lossy (3T)\",\n",
    "    \"lossy-5-0\": \"Lossy (5T)\",\n",
    "    \"lossless-3\": \"Iterative\\nLossless\",\n",
    "    \"lossy-3-3\": \"Iterative\\nLossy (3T)\",\n",
    "    \"lossy-5-3\": \"Iterative\\nLossy (5T)\"\n",
    "}"
   ]
  },
  {
   "cell_type": "code",
   "execution_count": null,
   "metadata": {},
   "outputs": [],
   "source": [
    "nodes = 200\n",
    "opts = \"2H\""
   ]
  },
  {
   "cell_type": "code",
   "execution_count": null,
   "metadata": {},
   "outputs": [],
   "source": [
    "d = \"../summary/\"\n",
    "\n",
    "if not os.path.exists(d):\n",
    "    os.makedirs(d)"
   ]
  },
  {
   "cell_type": "code",
   "execution_count": null,
   "metadata": {},
   "outputs": [],
   "source": [
    "csvargs = {\"float_format\": \"%.3f\"}"
   ]
  },
  {
   "cell_type": "markdown",
   "metadata": {},
   "source": [
    "## Read Data"
   ]
  },
  {
   "cell_type": "code",
   "execution_count": null,
   "metadata": {},
   "outputs": [],
   "source": [
    "flow_models = [\"transport\", \"lossytransport\", \"lossless-0\", \"lossless-3\", \"lossy-3-0\", \"lossy-5-0\", \"lossy-3-3\", \"lossy-5-3\"]"
   ]
  },
  {
   "cell_type": "code",
   "execution_count": null,
   "metadata": {},
   "outputs": [],
   "source": [
    "logs = {fm: load_memory(f\"../logs/elec_s_{nodes}_lcopt_{opts}_M{fm}_memory.log\") for fm in flow_models}"
   ]
  },
  {
   "cell_type": "code",
   "execution_count": null,
   "metadata": {},
   "outputs": [],
   "source": [
    "pflogs = {fm: pd.read_csv(f\"../results/pf/log_elec_s_{nodes}_ec_lcopt_{opts}_M{fm}_Sdistributed.csv\", index_col=0, header=[0,1]) for fm in flow_models}"
   ]
  },
  {
   "cell_type": "code",
   "execution_count": null,
   "metadata": {},
   "outputs": [],
   "source": [
    "networks = {fm: pypsa.Network(f\"../results/networks/elec_s_{nodes}_ec_lcopt_{opts}_M{fm}.nc\") for fm in flow_models}"
   ]
  },
  {
   "cell_type": "code",
   "execution_count": null,
   "metadata": {},
   "outputs": [],
   "source": [
    "networks_pf = {fm: pypsa.Network(f\"../results/pf/elec_s_{nodes}_ec_lcopt_{opts}_M{fm}_Sdistributed.nc\") for fm in flow_models}"
   ]
  },
  {
   "cell_type": "code",
   "execution_count": null,
   "metadata": {},
   "outputs": [],
   "source": [
    "for n in networks.values():\n",
    "    assign_carriers(n)\n",
    "    if \"lossy\" in n.flow_model:\n",
    "        n.lines_t[\"p0l\"] = n.lines_t.p0 + n.lines_t.loss.where(n.lines_t.p0>0).fillna(0.)\n",
    "        n.lines_t[\"p1l\"] = n.lines_t.p1 + n.lines_t.loss.where(n.lines_t.p1>0).fillna(0.)\n",
    "        n.lines_t[\"loading\"] = n.lines_t.p0 + n.lines_t.loss.where(n.lines_t.p0>0).fillna(0.) - n.lines_t.loss.where(n.lines_t.p0<0).fillna(0.)\n",
    "    else:\n",
    "        n.lines_t[\"loading\"] = n.lines_t.p0\n",
    "        \n",
    "    n.lines_t[\"relative_loading\"] = n.lines_t.loading / n.lines.s_nom_opt"
   ]
  },
  {
   "cell_type": "code",
   "execution_count": null,
   "metadata": {},
   "outputs": [],
   "source": [
    "for npf in networks_pf.values():\n",
    "    npf.lines_t[\"loading\"] = npf.lines_t.p0.where(npf.lines_t.p0>0).fillna(0.) - npf.lines_t.p1.where(npf.lines_t.p1>0).fillna(0.)\n",
    "    npf.lines_t[\"relative_loading\"] = npf.lines_t.loading / n.lines.s_nom_opt"
   ]
  },
  {
   "cell_type": "markdown",
   "metadata": {},
   "source": [
    "## Make Tables"
   ]
  },
  {
   "cell_type": "code",
   "execution_count": null,
   "metadata": {},
   "outputs": [],
   "source": [
    "pd.DataFrame(\n",
    "    {k: clt.check_flow_errors(networks[k], networks_pf[k]) for k in networks.keys()},\n",
    "    index=[\"mse\", \"rmse\", \"mae\", \"mape\", \"corr\", \"r2\"],\n",
    ").to_csv(f\"{d}flow_errors.csv\", **csvargs)"
   ]
  },
  {
   "cell_type": "code",
   "execution_count": null,
   "metadata": {},
   "outputs": [],
   "source": [
    "pd.DataFrame({k: clt.check_capacities(v) for k, v in networks.items()}).to_csv(\n",
    "    f\"{d}capacity.csv\", **csvargs\n",
    ")"
   ]
  },
  {
   "cell_type": "code",
   "execution_count": null,
   "metadata": {},
   "outputs": [],
   "source": [
    "pd.DataFrame({k: clt.check_energy_generated(v) for k, v in networks.items()}).to_csv(\n",
    "    f\"{d}energy.csv\", **csvargs\n",
    ")"
   ]
  },
  {
   "cell_type": "code",
   "execution_count": null,
   "metadata": {},
   "outputs": [],
   "source": [
    "pd.DataFrame({k: clt.check_slack(v, pflogs[k]) for k, v in networks_pf.items()}).to_csv(\n",
    "    f\"{d}slack.csv\", **csvargs\n",
    ")"
   ]
  },
  {
   "cell_type": "code",
   "execution_count": null,
   "metadata": {},
   "outputs": [],
   "source": [
    "pd.DataFrame(\n",
    "    {\n",
    "        k: [\n",
    "            clt.check_curtailment(v),\n",
    "            clt.check_energy_transmitted(v),\n",
    "            *clt.check_costs(v),\n",
    "            *clt.check_energy_balance(v),\n",
    "        ]\n",
    "        for k, v in networks.items()\n",
    "    },\n",
    "    index=[\n",
    "        \"curtailment\",\n",
    "        \"energy-transmitted\",\n",
    "        \"absolute-tsc\",\n",
    "        \"relative-tsc\",\n",
    "        \"energy-balance\",\n",
    "        \"loss-share\",\n",
    "        \"link-losses\",\n",
    "        \"line-losses\",\n",
    "    ],\n",
    ").to_csv(f\"{d}misc.csv\", **csvargs)"
   ]
  },
  {
   "cell_type": "markdown",
   "metadata": {},
   "source": [
    "## Make Plots (Multiple Models)"
   ]
  },
  {
   "cell_type": "code",
   "execution_count": null,
   "metadata": {},
   "outputs": [],
   "source": [
    "clt.plot_performance(logs, 'peak_mem', model_names, colors=\"forestgreen\", fn=f\"{d}memory.pdf\")\n",
    "clt.plot_performance(logs, 'time', model_names, colors=\"midnightblue\", fn=f\"{d}time.pdf\")"
   ]
  },
  {
   "cell_type": "code",
   "execution_count": null,
   "metadata": {},
   "outputs": [],
   "source": [
    "c = ['firebrick', 'indianred', 'midnightblue', 'darkmagenta', \"darkorange\", \"orange\", \"forestgreen\", \"limegreen\"]\n",
    "clt.plot_performance(logs, 'peak_mem', model_names, colors=c, fn=f\"{d}memory-c.pdf\")\n",
    "clt.plot_performance(logs, 'time', model_names, colors=c, fn=f\"{d}time-c.pdf\")"
   ]
  },
  {
   "cell_type": "code",
   "execution_count": null,
   "metadata": {},
   "outputs": [],
   "source": [
    "groups = {\n",
    "    \"Generator\": [\"onwind\", \"offwind-ac\", \"offwind-dc\", \"solar\"],\n",
    "    \"StorageUnit\": [\"H2\", \"battery\"],\n",
    "    \"Link\": [\"\"],\n",
    "    \"Line\": [\"\"]\n",
    "}\n",
    "\n",
    "for c, carriers in groups.items():\n",
    "    for carrier in carriers:\n",
    "        clt.plot_capacity_correlation(networks, c, model_names, regex=carrier, fn=f\"{d}capacity-correlation-{c}-{carrier}.pdf\")"
   ]
  },
  {
   "cell_type": "code",
   "execution_count": null,
   "metadata": {},
   "outputs": [],
   "source": [
    "conv_share = pd.concat([clt.convergence_share(pflogs[fm], fm) for fm in flow_models], axis=1)\n",
    "conv_share.to_csv(f\"{d}power-flow-convergence.csv\")\n",
    "clt.plot_nonconverged(conv_share, model_names, fn=f\"{d}power-flow-convergence.pdf\")"
   ]
  },
  {
   "cell_type": "code",
   "execution_count": null,
   "metadata": {},
   "outputs": [],
   "source": [
    "clt.plot_cost_bar(networks, model_names, fn=f\"{d}cost-bar.pdf\")"
   ]
  },
  {
   "cell_type": "markdown",
   "metadata": {},
   "source": [
    "## Make Plots (Individual Models)"
   ]
  },
  {
   "cell_type": "code",
   "execution_count": null,
   "metadata": {},
   "outputs": [],
   "source": [
    "clt.plot_feasible_space(networks[\"transport\"].lines.iloc[2], fn=f\"{d}feasiblespace.pdf\")"
   ]
  },
  {
   "cell_type": "code",
   "execution_count": null,
   "metadata": {},
   "outputs": [],
   "source": [
    "for name in networks.keys():\n",
    "    \n",
    "    print(name)\n",
    "    \n",
    "    n = networks[name]\n",
    "    n_pf = networks_pf[name]\n",
    "    \n",
    "    clt.plot_network(n, fn=f\"{d}network-{name}.pdf\")\n",
    "    clt.plot_negative_marginal_prices(n, fn=f\"{d}negative-lmp-{name}.pdf\")\n",
    "    \n",
    "    clt.plot_flow_comparison(n, n_pf, fn=f\"{d}flow-comparison-{name}.pdf\")\n",
    "    \n",
    "    clt.plot_duration_curve(n, n_pf, apparent=False, fn=f\"{d}flow-duration-curve-p-{name}.pdf\")\n",
    "    clt.plot_duration_curve(n, n_pf, apparent=True, fn=f\"{d}flow-duration-curve-s-{name}.pdf\")\n",
    "    \n",
    "    clt.plot_v_ang_diff(n_pf, fn=f\"{d}v-ang-diff-{name}.pdf\")\n",
    "    \n",
    "    if \"lossy\" in name:\n",
    "        clt.plot_network_losses(n, fn = f\"{d}network-losses-{name}.pdf\")\n",
    "        clt.plot_flow_vs_loss(n, fn=f\"{d}flow-vs-loss-{name}.pdf\")\n",
    "        clt.plot_loss_comparison(n, n_pf, fn=f\"{d}loss-comparison-{name}.pdf\")"
   ]
  },
  {
   "cell_type": "code",
   "execution_count": null,
   "metadata": {},
   "outputs": [],
   "source": []
  }
 ],
 "metadata": {
  "kernelspec": {
   "display_name": "Python 3",
   "language": "python",
   "name": "python3"
  },
  "language_info": {
   "codemirror_mode": {
    "name": "ipython",
    "version": 3
   },
   "file_extension": ".py",
   "mimetype": "text/x-python",
   "name": "python",
   "nbconvert_exporter": "python",
   "pygments_lexer": "ipython3",
   "version": "3.7.3"
  }
 },
 "nbformat": 4,
 "nbformat_minor": 4
}
